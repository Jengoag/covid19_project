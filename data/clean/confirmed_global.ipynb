{
 "cells": [
  {
   "cell_type": "code",
   "execution_count": 11,
   "source": [
    "import pandas as pd"
   ],
   "outputs": [],
   "metadata": {}
  },
  {
   "cell_type": "code",
   "execution_count": 19,
   "source": [
    "df_confirmed = pd.read_csv(\"../unclean/confirmed_global.csv\")\n",
    "\n",
    "print(df_confirmed)"
   ],
   "outputs": [
    {
     "output_type": "stream",
     "name": "stdout",
     "text": [
      "    Province/State      Country/Region        Lat        Long  1/22/20  \\\n",
      "0              NaN         Afghanistan  33.939110   67.709953        0   \n",
      "1              NaN             Albania  41.153300   20.168300        0   \n",
      "2              NaN             Algeria  28.033900    1.659600        0   \n",
      "3              NaN             Andorra  42.506300    1.521800        0   \n",
      "4              NaN              Angola -11.202700   17.873900        0   \n",
      "..             ...                 ...        ...         ...      ...   \n",
      "275            NaN             Vietnam  14.058324  108.277199        0   \n",
      "276            NaN  West Bank and Gaza  31.952200   35.233200        0   \n",
      "277            NaN               Yemen  15.552727   48.516388        0   \n",
      "278            NaN              Zambia -13.133897   27.849332        0   \n",
      "279            NaN            Zimbabwe -19.015438   29.154857        0   \n",
      "\n",
      "     1/23/20  1/24/20  1/25/20  1/26/20  1/27/20  ...  12/17/21  12/18/21  \\\n",
      "0          0        0        0        0        0  ...    157734    157745   \n",
      "1          0        0        0        0        0  ...    205224    205549   \n",
      "2          0        0        0        0        0  ...    214044    214330   \n",
      "3          0        0        0        0        0  ...     20549     20549   \n",
      "4          0        0        0        0        0  ...     65760     65868   \n",
      "..       ...      ...      ...      ...      ...  ...       ...       ...   \n",
      "275        2        2        2        2        2  ...   1508473   1524368   \n",
      "276        0        0        0        0        0  ...    465094    465094   \n",
      "277        0        0        0        0        0  ...     10092     10097   \n",
      "278        0        0        0        0        0  ...    214433    215472   \n",
      "279        0        0        0        0        0  ...    189567    189567   \n",
      "\n",
      "     12/19/21  12/20/21  12/21/21  12/22/21  12/23/21  12/24/21  12/25/21  \\\n",
      "0      157787    157797    157816    157841    157878    157887    157895   \n",
      "1      205777    205897    206273    206616    206935    207221    207542   \n",
      "2      214592    214835    215145    215430    215723    216098    216376   \n",
      "3       20549     21062     21062     21372     21571     21730     21730   \n",
      "4       65938     66086     66566     67199     68362     70221     71142   \n",
      "..        ...       ...       ...       ...       ...       ...       ...   \n",
      "275   1540478   1555455   1571780   1588335   1604712   1620869   1636455   \n",
      "276    465094    466669    467058    467391    467682    467682    467682   \n",
      "277     10101     10102     10103     10103     10105     10109     10111   \n",
      "278    216508    217117    219023    221880    225260    228932    231581   \n",
      "279    191673    195079    197768    199404    201344    202736    203746   \n",
      "\n",
      "     12/26/21  \n",
      "0      157951  \n",
      "1      207709  \n",
      "2      216637  \n",
      "3       21730  \n",
      "4       71752  \n",
      "..        ...  \n",
      "275   1651673  \n",
      "276    467682  \n",
      "277     10115  \n",
      "278    233120  \n",
      "279    204351  \n",
      "\n",
      "[280 rows x 709 columns]\n"
     ]
    }
   ],
   "metadata": {}
  },
  {
   "cell_type": "code",
   "execution_count": null,
   "source": [],
   "outputs": [],
   "metadata": {}
  },
  {
   "cell_type": "code",
   "execution_count": null,
   "source": [],
   "outputs": [],
   "metadata": {}
  },
  {
   "cell_type": "code",
   "execution_count": null,
   "source": [],
   "outputs": [],
   "metadata": {}
  },
  {
   "cell_type": "code",
   "execution_count": null,
   "source": [],
   "outputs": [],
   "metadata": {}
  },
  {
   "cell_type": "code",
   "execution_count": null,
   "source": [],
   "outputs": [],
   "metadata": {}
  }
 ],
 "metadata": {
  "orig_nbformat": 4,
  "language_info": {
   "name": "python",
   "version": "3.9.7",
   "mimetype": "text/x-python",
   "codemirror_mode": {
    "name": "ipython",
    "version": 3
   },
   "pygments_lexer": "ipython3",
   "nbconvert_exporter": "python",
   "file_extension": ".py"
  },
  "kernelspec": {
   "name": "python3",
   "display_name": "Python 3.9.7 64-bit ('core': conda)"
  },
  "interpreter": {
   "hash": "f3286ea705001ec0bb3381152b489620b95b108b2c9769628ed9388c599911a5"
  }
 },
 "nbformat": 4,
 "nbformat_minor": 2
}